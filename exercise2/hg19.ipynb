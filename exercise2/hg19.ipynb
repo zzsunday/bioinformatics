{
 "cells": [
  {
   "cell_type": "code",
   "execution_count": 80,
   "metadata": {},
   "outputs": [],
   "source": [
    "import re\n",
    "import time\n",
    "from collections import OrderedDict\n",
    "import sys\n",
    "from pathlib import Path"
   ]
  },
  {
   "cell_type": "code",
   "execution_count": 44,
   "metadata": {},
   "outputs": [],
   "source": [
    "#version 1\n",
    "def count_fastq_atcgn(file_path, buff_sise=1024*1024):\n",
    "    bases = ['A','T','C','G','N']\n",
    "    ATCG_analysis = OrderedDict()\n",
    "    with open(file_path,'r') as f:\n",
    "        line1 = f.readline().upper()\n",
    "        chr_i = re.split('\\s',line1)[0][1:]\n",
    "        ATCG_analysis[chr_i] = OrderedDict()\n",
    "        print(chr_i)\n",
    "        for base in bases:\n",
    "            ATCG_analysis[chr_i][base] = 0\n",
    "        while True:\n",
    "            chunk = f.read(buff_sise).upper()\n",
    "            if '>' in chunk:\n",
    "                chrosome = re.split('>',chunk)\n",
    "                if chrosome[0]:\n",
    "                    for base in bases:\n",
    "                        ATCG_analysis[chr_i][base] += chrosome[0].count(base)\n",
    "                for i in chrosome[1:]:\n",
    "                    if i:\n",
    "                        #chr_i = re.split('\\s', i[0:i.index('\\n')])[0]\n",
    "                        chr_i = i[:i.index('\\n')]# get chromosome id\n",
    "                        print(chr_i)\n",
    "                        str_i = i[i.index('\\n'):]\n",
    "                        ATCG_analysis[chr_i] = OrderedDict()\n",
    "                        for base in bases:\n",
    "                            ATCG_analysis[chr_i][base] = str_i.count(base)\n",
    "            \n",
    "            else:\n",
    "                    for base in bases:\n",
    "                        ATCG_analysis[chr_i][base] += chunk.count(base)\n",
    "            if not chunk:\n",
    "                f.close()\n",
    "                break\n",
    "    return ATCG_analysis\n",
    "            "
   ]
  },
  {
   "cell_type": "code",
   "execution_count": 83,
   "metadata": {},
   "outputs": [],
   "source": [
    "def atcgn_to_csv(atcgn_analysis,save_path):\n",
    "    save_path = save_path+\"count.csv\"\n",
    "    with open(save_path,'w+') as f :\n",
    "        header = \"{:^21s}\\t{:^8s}\\t{:^8s}\\t{:^8s}\\t{:^8s}\\t{:^8s}\\t{:^8s}\\t{:^8s}\\t{:^8s}\\t{:^8s}\".format(\"ID\",\"Length\",\"GC\",\"N\",\"GC_ratio\",\"N_ratio\",\"A\",\"T\",\"C\",\"G\")\n",
    "        f.write(headerder+'\\n')    \n",
    "        for chr_id,atcgn_count in atcg.items():\n",
    "            GC = atcgn_count['G']+atcgn_count['C']\n",
    "            N = atcgn_count['N']\n",
    "            Length = sum(atcgn_count.values())\n",
    "            GC_ratio = GC*1.0/Length\n",
    "            N_ratio = N*1.0/Length\n",
    "            content= \"{:^21s}\\t{:^8d}\\t{:^8d}\\t{:^8d}\\t{:^8.3f}\\t{:^8.3f}\\t{:^8d}\\t{:^8d}\\t{:^8d}\\t{:^8d}\".format(chr_id,Length,GC,N,GC_ratio,N_ratio,atcgn_count['A'],atcgn_count['T'],atcgn_count['C'],atcgn_count['G'])\n",
    "            f.write(content)\n",
    "    return save_path"
   ]
  },
  {
   "cell_type": "code",
   "execution_count": 55,
   "metadata": {},
   "outputs": [
    {
     "data": {
      "text/plain": [
       "8"
      ]
     },
     "execution_count": 55,
     "metadata": {},
     "output_type": "execute_result"
    }
   ],
   "source": [
    "if sys.argv:\n",
    "    file_path = sys.argv[1].strip()\n",
    "    res = count_fastq_atcgn(file_path)\n",
    "    save_path = atcgn_to_csv(res,sys.argv[2])\n",
    "    print(save_path)\n",
    "\n",
    "        "
   ]
  }
 ],
 "metadata": {
  "kernelspec": {
   "display_name": "Python 3",
   "language": "python",
   "name": "python3"
  },
  "language_info": {
   "codemirror_mode": {
    "name": "ipython",
    "version": 3
   },
   "file_extension": ".py",
   "mimetype": "text/x-python",
   "name": "python",
   "nbconvert_exporter": "python",
   "pygments_lexer": "ipython3",
   "version": "3.6.7"
  }
 },
 "nbformat": 4,
 "nbformat_minor": 2
}
