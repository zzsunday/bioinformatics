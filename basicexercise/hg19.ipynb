{
 "cells": [
  {
   "cell_type": "code",
   "execution_count": 10,
   "metadata": {},
   "outputs": [],
   "source": [
    "import re\n",
    "from collections import OrderedDict\n",
    "import copy\n",
    "from pathlib import Path\n",
    "import sys"
   ]
  },
  {
   "cell_type": "code",
   "execution_count": 14,
   "metadata": {},
   "outputs": [
    {
     "data": {
      "text/plain": [
       "'CCAAAGCTGGGCTAATGTCCTTTTGCTTGTGTCTGAATAAGGCACCAATT'"
      ]
     },
     "execution_count": 14,
     "metadata": {},
     "output_type": "execute_result"
    }
   ],
   "source": [
    "str = 'CCAAAGCTGGGCTAATGTCCTTTTGCTTGTGTCTGAATAAGGCACCAATT'\n",
    "re.split('\\s',str)[0]"
   ]
  },
  {
   "cell_type": "code",
   "execution_count": 19,
   "metadata": {},
   "outputs": [
    {
     "data": {
      "text/plain": [
       "'chr1'"
      ]
     },
     "execution_count": 19,
     "metadata": {},
     "output_type": "execute_result"
    }
   ],
   "source": [
    "a = \">chr1\"\n",
    "re.split('\\s',a)[0][1:]"
   ]
  },
  {
   "cell_type": "code",
   "execution_count": 74,
   "metadata": {},
   "outputs": [
    {
     "name": "stdout",
     "output_type": "stream",
     "text": [
      "1 chr1\n",
      "1 chr2\n",
      "1 chr3\n"
     ]
    }
   ],
   "source": [
    "with open ('../reference/test.fa') as f:\n",
    "    lines = f.readlines()\n",
    "    chro = OrderedDict()\n",
    "    bases = OrderedDict(A=0,T=0,C=0,G=0,N=0)\n",
    "    for i in lines:\n",
    "        if i.startswith('>'):\n",
    "            chr_i = i.split('>')[1].strip()\n",
    "            chro[chr_i] = copy.deepcopy(bases)\n",
    "            print('1',chr_i)\n",
    "            continue\n",
    "        i = i.upper()\n",
    "        chro[chr_i]['A'] += i.count('A')\n",
    "        chro[chr_i]['T'] += i.count('T')\n",
    "        chro[chr_i]['C'] += i.count('C')\n",
    "        chro[chr_i]['G'] += i.count('G')\n",
    "        chro[chr_i]['N'] += i.count('N')\n",
    "            \n",
    "        \n"
   ]
  },
  {
   "cell_type": "code",
   "execution_count": 75,
   "metadata": {},
   "outputs": [
    {
     "data": {
      "text/plain": [
       "OrderedDict([('chr1',\n",
       "              OrderedDict([('A', 65570891),\n",
       "                           ('T', 65668756),\n",
       "                           ('C', 47024412),\n",
       "                           ('G', 47016562),\n",
       "                           ('N', 23970000)])),\n",
       "             ('chr2',\n",
       "              OrderedDict([('A', 71102632),\n",
       "                           ('T', 71239379),\n",
       "                           ('C', 47915465),\n",
       "                           ('G', 47947042),\n",
       "                           ('N', 4994855)])),\n",
       "             ('chr3',\n",
       "              OrderedDict([('A', 58713343),\n",
       "                           ('T', 58760485),\n",
       "                           ('C', 38653197),\n",
       "                           ('G', 38670110),\n",
       "                           ('N', 3225295)]))])"
      ]
     },
     "execution_count": 75,
     "metadata": {},
     "output_type": "execute_result"
    }
   ],
   "source": [
    "chro"
   ]
  },
  {
   "cell_type": "code",
   "execution_count": 67,
   "metadata": {},
   "outputs": [
    {
     "name": "stdout",
     "output_type": "stream",
     "text": [
      "['>chr1\\n', 'AAA\\n', 'AA\\n', '>chr2\\n', 'TTTT\\n', 'TT\\n', '>chr3\\n', 'CCC\\n', 'CC\\n', '>chr4\\n', 'GG\\n', 'GGG\\n']\n",
      "AAA\n",
      "\n",
      "chr1\n",
      "AA\n",
      "\n",
      "chr1\n",
      "TTTT\n",
      "\n",
      "chr2\n",
      "TT\n",
      "\n",
      "chr2\n",
      "CCC\n",
      "\n",
      "chr3\n",
      "CC\n",
      "\n",
      "chr3\n",
      "GG\n",
      "\n",
      "chr4\n",
      "GGG\n",
      "\n",
      "chr4\n"
     ]
    }
   ],
   "source": [
    "with open ('../reference/test') as f:\n",
    "    lines = f.readlines()\n",
    "    chro = OrderedDict()\n",
    "    bases = OrderedDict(A=0,T=0,C=0,G=0,N=0)\n",
    "    print(lines)\n",
    "    for i in lines:\n",
    "        #print(i)\n",
    "        if i.startswith('>'):\n",
    "            chr_i = i.split('>')[1].strip()\n",
    "            chro[chr_i] = bases.copy()\n",
    "            #print('1',chr_i)\n",
    "            continue\n",
    "        #print('===',i)\n",
    "        #print('===',chr_i)\n",
    "        i = i.upper()\n",
    "        print(i)\n",
    "        print(chr_i)\n",
    "        chro[chr_i]['A'] += i.count('A')\n",
    "        chro[chr_i]['T'] += i.count('T')\n",
    "        chro[chr_i]['C'] += i.count('C')\n",
    "        chro[chr_i]['G'] += i.count('G')\n",
    "        chro[chr_i]['N'] += i.count('N')"
   ]
  },
  {
   "cell_type": "code",
   "execution_count": 68,
   "metadata": {},
   "outputs": [
    {
     "data": {
      "text/plain": [
       "OrderedDict([('chr1',\n",
       "              OrderedDict([('A', 5), ('T', 0), ('C', 0), ('G', 0), ('N', 0)])),\n",
       "             ('chr2',\n",
       "              OrderedDict([('A', 0), ('T', 6), ('C', 0), ('G', 0), ('N', 0)])),\n",
       "             ('chr3',\n",
       "              OrderedDict([('A', 0), ('T', 0), ('C', 5), ('G', 0), ('N', 0)])),\n",
       "             ('chr4',\n",
       "              OrderedDict([('A', 0),\n",
       "                           ('T', 0),\n",
       "                           ('C', 0),\n",
       "                           ('G', 5),\n",
       "                           ('N', 0)]))])"
      ]
     },
     "execution_count": 68,
     "metadata": {},
     "output_type": "execute_result"
    }
   ],
   "source": [
    "chro"
   ]
  },
  {
   "cell_type": "code",
   "execution_count": 11,
   "metadata": {},
   "outputs": [],
   "source": [
    "argv=[\"fasta_atcgn_summary.py\",\"/home/dsun/rna-seq/reference/test.fa\"]"
   ]
  },
  {
   "cell_type": "code",
   "execution_count": 3,
   "metadata": {},
   "outputs": [
    {
     "data": {
      "text/plain": [
       "'fasta_atcgn_summary.py'"
      ]
     },
     "execution_count": 3,
     "metadata": {},
     "output_type": "execute_result"
    }
   ],
   "source": [
    "argv[0].strip('''''\"''')"
   ]
  },
  {
   "cell_type": "code",
   "execution_count": 8,
   "metadata": {},
   "outputs": [
    {
     "data": {
      "text/plain": [
       "True"
      ]
     },
     "execution_count": 8,
     "metadata": {},
     "output_type": "execute_result"
    }
   ],
   "source": [
    "Path('/home/dsun/rna-seq/reference/test.fa').exists()"
   ]
  },
  {
   "cell_type": "code",
   "execution_count": 13,
   "metadata": {},
   "outputs": [
    {
     "name": "stdout",
     "output_type": "stream",
     "text": [
      "/home/dsun/rna-seq/reference/test.fa\n"
     ]
    }
   ],
   "source": [
    "    for f in argv:\n",
    "        done = 0\n",
    "        f= f.strip(''''\"''')\n",
    "        if f[-2:] == 'py' or not Path(f).exists():\n",
    "            #print(f)\n",
    "            continue\n",
    "        print(f)"
   ]
  },
  {
   "cell_type": "code",
   "execution_count": null,
   "metadata": {},
   "outputs": [],
   "source": []
  }
 ],
 "metadata": {
  "kernelspec": {
   "display_name": "Python [conda env:miniconda3-python3]",
   "language": "python",
   "name": "conda-env-miniconda3-python3-py"
  },
  "language_info": {
   "codemirror_mode": {
    "name": "ipython",
    "version": 3
   },
   "file_extension": ".py",
   "mimetype": "text/x-python",
   "name": "python",
   "nbconvert_exporter": "python",
   "pygments_lexer": "ipython3",
   "version": "3.7.3"
  }
 },
 "nbformat": 4,
 "nbformat_minor": 2
}
